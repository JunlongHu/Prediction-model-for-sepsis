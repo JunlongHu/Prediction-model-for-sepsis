{
 "cells": [
  {
   "cell_type": "code",
   "execution_count": 18,
   "metadata": {
    "collapsed": true
   },
   "outputs": [],
   "source": [
    "# Importing the libraries\n",
    "import numpy as np\n",
    "import matplotlib.pyplot as plt\n",
    "import pandas as pd\n",
    "import scipy.io"
   ]
  },
  {
   "cell_type": "code",
   "execution_count": 19,
   "metadata": {},
   "outputs": [
    {
     "name": "stdout",
     "output_type": "stream",
     "text": [
      "(965, 6)\n"
     ]
    }
   ],
   "source": [
    "Data_star=pd.read_excel(\"./RF 6变量.xlsx\")\n",
    "all_data = np.array(Data_star)\n",
    "X = all_data[:,1:] #X为所有的X\n",
    "Y = all_data[:,0:1] #Y为所有的Y\n",
    "print(X.shape)"
   ]
  },
  {
   "cell_type": "code",
   "execution_count": 21,
   "metadata": {
    "collapsed": true
   },
   "outputs": [],
   "source": [
    "#训练集，测试集\n",
    "from sklearn.model_selection import train_test_split\n",
    "X_train, X_test, y_train, y_test = train_test_split(X, Y, test_size = 0.3, random_state = 0)"
   ]
  },
  {
   "cell_type": "code",
   "execution_count": 23,
   "metadata": {},
   "outputs": [
    {
     "name": "stderr",
     "output_type": "stream",
     "text": [
      "C:\\Users\\12410\\.conda\\envs\\pythonproject2\\lib\\site-packages\\ipykernel_launcher.py:10: DataConversionWarning: A column-vector y was passed when a 1d array was expected. Please change the shape of y to (n_samples,), for example using ravel().\n",
      "  # Remove the CWD from sys.path while we load stuff.\n"
     ]
    },
    {
     "data": {
      "text/plain": [
       "RandomForestClassifier(min_samples_split=6, n_estimators=140, random_state=0)"
      ]
     },
     "execution_count": 23,
     "metadata": {},
     "output_type": "execute_result"
    }
   ],
   "source": [
    "# Fitting Random Forest to the Training set\n",
    "from sklearn.ensemble import RandomForestClassifier\n",
    "classifier = RandomForestClassifier(n_estimators=140,criterion='gini',\n",
    "                                    max_depth=None,min_samples_split=6,min_samples_leaf=1,\n",
    "                                    min_weight_fraction_leaf=0.0,max_features=\"auto\",max_leaf_nodes=None,\n",
    "                                    min_impurity_decrease=0.0,min_impurity_split=None,\n",
    "                                    bootstrap=True,oob_score=False,n_jobs=None,\n",
    "                                    warm_start=False,class_weight=None,ccp_alpha=0.0,max_samples=None,\n",
    "                                    verbose=0,random_state=0)\n",
    "classifier.fit(X_train, y_train)"
   ]
  },
  {
   "cell_type": "code",
   "execution_count": 24,
   "metadata": {
    "collapsed": true
   },
   "outputs": [],
   "source": [
    "# 训练集和测试集预测概率\n",
    "y_pred = classifier.predict_proba(X_test)[:,1] \n",
    "y_pred_train = classifier.predict_proba(X_train)[:,1]"
   ]
  },
  {
   "cell_type": "code",
   "execution_count": 25,
   "metadata": {},
   "outputs": [
    {
     "name": "stdout",
     "output_type": "stream",
     "text": [
      "0.8908002038735984\n",
      "0.9993164730006835\n"
     ]
    }
   ],
   "source": [
    "#计算训练集和测试集上的AUC\n",
    "from sklearn.metrics import roc_auc_score\n",
    "auc_score_test = roc_auc_score(y_test,y_pred)\n",
    "print(auc_score_test)\n",
    "\n",
    "auc_score_train = roc_auc_score(y_train,y_pred_train)\n",
    "print(auc_score_train)\n"
   ]
  },
  {
   "cell_type": "code",
   "execution_count": 26,
   "metadata": {
    "collapsed": true
   },
   "outputs": [],
   "source": [
    "#混淆矩阵设定需求\n",
    "from numpy import argmax\n",
    "from sklearn import metrics\n",
    "def find_optimal_cutoff(fpr,tpr,threshold):\n",
    "    optimal_idx = np.argmax(tpr - fpr)\n",
    "    optimal_threshold = threshold[optimal_idx]\n",
    "    return optimal_threshold"
   ]
  },
  {
   "cell_type": "code",
   "execution_count": 27,
   "metadata": {},
   "outputs": [
    {
     "name": "stdout",
     "output_type": "stream",
     "text": [
      "0.28471655328798184 186 12 32 60\n"
     ]
    }
   ],
   "source": [
    "from sklearn.metrics import confusion_matrix\n",
    "from sklearn.metrics import roc_curve, auc\n",
    "def best_confusion_matrix(y_test, y_pred):\n",
    "    tpr,fpr,threshold=metrics.roc_curve(y_test,y_pred,pos_label=1)\n",
    "    cutoff = find_optimal_cutoff(tpr,fpr,threshold)\n",
    "    y_pred = list(map(lambda x:1 if x>=cutoff else 0,y_pred))\n",
    "    TN,FP,FN,TP = confusion_matrix(y_test,y_pred).ravel()\n",
    "    return cutoff,TN,FN,FP,TP\n",
    "\n",
    "test_cutoff,TN,FN,FP,TP = best_confusion_matrix(y_test, y_pred)\n",
    "\n",
    "print(test_cutoff,TN,FN,FP,TP)"
   ]
  },
  {
   "cell_type": "code",
   "execution_count": 28,
   "metadata": {
    "scrolled": true
   },
   "outputs": [
    {
     "name": "stdout",
     "output_type": "stream",
     "text": [
      "0.8908002038735984\n",
      "0.8333333333333334 0.8532110091743119 0.6521739130434783 0.9393939393939394 0.8482758620689655 0.6521739130434783 0.7317073170731708\n"
     ]
    }
   ],
   "source": [
    "Sensitivity = TP / (TP + FN)  #灵敏度\n",
    "Specificity = TN / (TN + FP)  #特异度\n",
    "Accuracy = (TP + TN) / (TP + TN + FP + FN)  #正确率\n",
    "Precision = TP / (TP + FP)  #准确率\n",
    "F1 = 2 * Precision * Sensitivity / (Precision + Sensitivity)  #F1值\n",
    "Recall = TP / (TP + FN)  #召回率，同灵敏度\n",
    "PPV = TP / (TP + FP)  #阳性预测值 positive predict\n",
    "NPV = TN / (TN + FN)  #阴性预测值 negative predict\n",
    "YoudenIndex = Sensitivity + Specificity - 1\n",
    "#print(Sensitivity,Specificity,Accuracy,Precision,F1,Recall,PPV,NPV,YoudenIndex)\n",
    "print(auc_score_test)\n",
    "print(Sensitivity,Specificity,PPV,NPV,Accuracy,Precision,F1)"
   ]
  },
  {
   "cell_type": "code",
   "execution_count": 29,
   "metadata": {
    "collapsed": true
   },
   "outputs": [],
   "source": [
    "#导出拆分结果\n",
    "import xlwt\n",
    "import xlrd\n",
    "filename =xlwt.Workbook() #创建工作簿\n",
    "sheet1 = filename.add_sheet(u'sheet1',cell_overwrite_ok=True) #创建sheet1\n",
    "h1=y_train.shape[0]#h1为行数\n",
    "h2=X_train.shape[1]#h2为列数\n",
    "for i in range(h1):  #注意有冒号\n",
    "    for j in range(h2):\n",
    "        sheet1.write(i,0,float(y_train[i]))  \n",
    "        sheet1.write(i,j+1,float(X_train[i][j]))   #此处如果没有j+1，会和第一列重叠\n",
    "sheet2 = filename.add_sheet(u'sheet2',cell_overwrite_ok=True) #创建sheet2\n",
    "h3=y_test.shape[0]#h1为行数\n",
    "h4=X_test.shape[1]#h2为列数\n",
    "for a in range(h3): \n",
    "    for b in range(h4): \n",
    "        sheet2.write(a,0,float(y_test[a])) \n",
    "        sheet2.write(a,b+1,float(X_test[a][b]))    #此处如果没有b+1，会和第一列重叠\n",
    "#filename.save(\"RF_real_results.xls\")"
   ]
  },
  {
   "cell_type": "code",
   "execution_count": 30,
   "metadata": {},
   "outputs": [
    {
     "name": "stdout",
     "output_type": "stream",
     "text": [
      "675 6 290 6\n"
     ]
    }
   ],
   "source": [
    "print(h1,h2,h3,h4)"
   ]
  },
  {
   "cell_type": "code",
   "execution_count": 31,
   "metadata": {
    "collapsed": true
   },
   "outputs": [],
   "source": [
    "#导出验证集发病情况和预测概率\n",
    "import xlwt  # 将真实值和预测值结果输出到excel\n",
    "import xlrd\n",
    "filename =xlwt.Workbook() #创建工作簿\n",
    "sheet1 = filename.add_sheet(u'sheet1',cell_overwrite_ok=True) #创建sheet\n",
    "h=y_pred.shape[0]#h为行数\n",
    "for i in range(h):\n",
    "    sheet1.write(i,0,float(y_test[i][0]))    #真实值输出\n",
    "    sheet1.write(i,1,float(y_pred[i]))    #预测值输出\n",
    "#filename.save(\"RF test.xls\")\n",
    "\n",
    "#导出训练集发病情况和预测概率\n",
    "import xlwt  # 将真实值和预测值结果输出到excel\n",
    "import xlrd\n",
    "filename =xlwt.Workbook() #创建工作簿\n",
    "sheet1 = filename.add_sheet(u'sheet1',cell_overwrite_ok=True) #创建sheet\n",
    "h=y_pred_train.shape[0]#h为行数\n",
    "for i in range(h):\n",
    "    sheet1.write(i,0,float(y_train[i][0]))    #真实值输出\n",
    "    sheet1.write(i,1,float(y_pred_train[i]))    #预测值输出\n",
    "#filename.save(\"RF train.xls\")"
   ]
  },
  {
   "cell_type": "code",
   "execution_count": 32,
   "metadata": {},
   "outputs": [
    {
     "data": {
      "image/png": "[encoded data removed]",
      "text/plain": [
       "<Figure size 432x288 with 1 Axes>"
      ]
     },
     "metadata": {},
     "output_type": "display_data"
    }
   ],
   "source": [
    "from sklearn.metrics import roc_curve,auc\n",
    "FPR1,TPR1,threshold1=roc_curve(y_train,y_pred_train,pos_label=1)#测试集的ROC\n",
    "FPR,TPR,threshold=roc_curve(y_test,y_pred,pos_label=1)#训练集的ROC\n",
    "\n",
    "#ROC曲线绘制---不同模型的ROC，同一个模型不同数据集下的ROC均可实现\n",
    "plt.figure()\n",
    "plt.title('ROC CURVE (AUC={:.2f})'.format(auc_score_train))\n",
    "plt.xlabel('False Positive Rate')\n",
    "plt.ylabel('True Positive Rate')\n",
    "plt.xlim([-0.05,1.05])\n",
    "plt.ylim([-0.05,1.05])\n",
    "plt.plot(FPR,TPR,color='blue',label='Test(Area = %0.2f)' % auc_score_test)#测试集的ROC\n",
    "plt.plot(FPR1,TPR1,color='red',label='Train(Area = %0.2f)' % auc_score_train)#训练集的ROC\n",
    "plt.plot([0, 1], [0, 1], color='black', linestyle='--')\n",
    "plt.legend(loc=\"lower right\")\n",
    "#plt.savefig(\"RF ROC.jpg\",dpi=1000) #可以保存图\n",
    "plt.show()"
   ]
  },
  {
   "cell_type": "code",
   "execution_count": 33,
   "metadata": {},
   "outputs": [
    {
     "data": {
      "text/plain": [
       "['RF 最终6变量 脓毒症模型.m']"
      ]
     },
     "execution_count": 33,
     "metadata": {},
     "output_type": "execute_result"
    }
   ],
   "source": [
    "#保存模型\n",
    "import joblib\n",
    "joblib.dump(classifier, \"RF 最终6变量 脓毒症模型.m\")"
   ]
  },
  {
   "cell_type": "code",
   "execution_count": null,
   "metadata": {
    "collapsed": true
   },
   "outputs": [],
   "source": []
  }
 ],
 "metadata": {
  "kernelspec": {
   "display_name": "pythonproject2",
   "language": "python",
   "name": "pythonproject2"
  },
  "language_info": {
   "codemirror_mode": {
    "name": "ipython",
    "version": 3
   },
   "file_extension": ".py",
   "mimetype": "text/x-python",
   "name": "python",
   "nbconvert_exporter": "python",
   "pygments_lexer": "ipython3",
   "version": "3.6.13"
  }
 },
 "nbformat": 4,
 "nbformat_minor": 2
}
